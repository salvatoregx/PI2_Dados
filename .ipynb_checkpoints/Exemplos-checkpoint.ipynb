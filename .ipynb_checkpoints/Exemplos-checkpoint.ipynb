{
 "cells": [
  {
   "cell_type": "markdown",
   "id": "96dd89dc",
   "metadata": {},
   "source": [
    "# Conexão com o banco de dados"
   ]
  },
  {
   "cell_type": "code",
   "execution_count": 10,
   "id": "49d6bd59-1adb-40fa-8445-8453591bc2d2",
   "metadata": {},
   "outputs": [
    {
     "name": "stdout",
     "output_type": "stream",
     "text": [
      "Defaulting to user installation because normal site-packages is not writeable\n",
      "Requirement already satisfied: duckdb in /home/salvatoregx/.local/lib/python3.13/site-packages (1.2.2)\n",
      "Requirement already satisfied: numpy in /home/salvatoregx/.local/lib/python3.13/site-packages (2.2.5)\n",
      "Collecting pandas\n",
      "  Downloading pandas-2.2.3-cp313-cp313-manylinux_2_17_x86_64.manylinux2014_x86_64.whl.metadata (89 kB)\n",
      "Requirement already satisfied: python-dateutil>=2.8.2 in /home/salvatoregx/.local/lib/python3.13/site-packages (from pandas) (2.9.0.post0)\n",
      "Collecting pytz>=2020.1 (from pandas)\n",
      "  Downloading pytz-2025.2-py2.py3-none-any.whl.metadata (22 kB)\n",
      "Collecting tzdata>=2022.7 (from pandas)\n",
      "  Downloading tzdata-2025.2-py2.py3-none-any.whl.metadata (1.4 kB)\n",
      "Requirement already satisfied: six>=1.5 in /home/salvatoregx/.local/lib/python3.13/site-packages (from python-dateutil>=2.8.2->pandas) (1.17.0)\n",
      "Downloading pandas-2.2.3-cp313-cp313-manylinux_2_17_x86_64.manylinux2014_x86_64.whl (12.7 MB)\n",
      "\u001b[2K   \u001b[38;2;114;156;31m━━━━━━━━━━━━━━━━━━━━━━━━━━━━━━━━━━━━━━━━\u001b[0m \u001b[32m12.7/12.7 MB\u001b[0m \u001b[31m32.4 MB/s\u001b[0m eta \u001b[36m0:00:00\u001b[0mm eta \u001b[36m0:00:01\u001b[0m:01\u001b[0m\n",
      "\u001b[?25hDownloading pytz-2025.2-py2.py3-none-any.whl (509 kB)\n",
      "Downloading tzdata-2025.2-py2.py3-none-any.whl (347 kB)\n",
      "Installing collected packages: pytz, tzdata, pandas\n",
      "\u001b[2K   \u001b[38;2;114;156;31m━━━━━━━━━━━━━━━━━━━━━━━━━━━━━━━━━━━━━━━━\u001b[0m \u001b[32m3/3\u001b[0m [pandas]━━━━━━━━━━━\u001b[0m \u001b[32m2/3\u001b[0m [pandas]\n",
      "\u001b[1A\u001b[2KSuccessfully installed pandas-2.2.3 pytz-2025.2 tzdata-2025.2\n"
     ]
    }
   ],
   "source": [
    "import sys\n",
    "!{sys.executable} -m pip install duckdb numpy pandas"
   ]
  },
  {
   "cell_type": "code",
   "execution_count": 11,
   "id": "51c87643",
   "metadata": {},
   "outputs": [],
   "source": [
    "import duckdb\n",
    "con = duckdb.connect(\"pi2_solucao_hospitalar.db\")"
   ]
  },
  {
   "cell_type": "markdown",
   "id": "a9076be0",
   "metadata": {},
   "source": [
    "# Listar 5 pacientes"
   ]
  },
  {
   "cell_type": "code",
   "execution_count": 12,
   "id": "652cb9ee",
   "metadata": {},
   "outputs": [
    {
     "name": "stdout",
     "output_type": "stream",
     "text": [
      "  id              nome          cpf\n",
      "0  1      Shawn Arnold  57849679524\n",
      "1  2     Connie Garcia  94266128412\n",
      "2  3  Stefanie Jackson  35878790955\n",
      "3  4       Kerry Evans  73086732114\n",
      "4  5    Amanda Summers  46529443198\n"
     ]
    }
   ],
   "source": [
    "pacientes = con.sql(\"SELECT * FROM paciente LIMIT 5\").fetchdf()\n",
    "print(pacientes)"
   ]
  },
  {
   "cell_type": "markdown",
   "id": "d660721a",
   "metadata": {},
   "source": [
    "# Total de internações por setor"
   ]
  },
  {
   "cell_type": "code",
   "execution_count": 15,
   "id": "3e9d2f4d",
   "metadata": {},
   "outputs": [
    {
     "name": "stdout",
     "output_type": "stream",
     "text": [
      "        setor  total\n",
      "0  Emergência     12\n",
      "1    Cirurgia      6\n",
      "2  Radiologia      7\n",
      "3         UTI      8\n"
     ]
    }
   ],
   "source": [
    "internacoes_setor = con.sql(\"\"\"\n",
    "    SELECT s.setor, COUNT(i.id) AS total\n",
    "    FROM internacao i\n",
    "    JOIN sala s ON i.id_sala = s.id\n",
    "    GROUP BY s.setor\n",
    "\"\"\").fetchdf()\n",
    "print(internacoes_setor)"
   ]
  },
  {
   "cell_type": "markdown",
   "id": "46618680",
   "metadata": {},
   "source": [
    "# Análise de Equipamentos Ativos"
   ]
  },
  {
   "cell_type": "code",
   "execution_count": 16,
   "id": "4ed5c4c1",
   "metadata": {},
   "outputs": [
    {
     "name": "stdout",
     "output_type": "stream",
     "text": [
      "                modelo  total_ativos\n",
      "0  Modelo_equipamento1             3\n",
      "1  Modelo_equipamento4             3\n",
      "2  Modelo_equipamento3             6\n",
      "3  Modelo_equipamento2             3\n"
     ]
    }
   ],
   "source": [
    "equipamentos_ativos = con.sql(\"\"\"\n",
    "    SELECT e.modelo, COUNT(a.id) AS total_ativos\n",
    "    FROM equipamentoativo a\n",
    "    JOIN equipamento e ON a.id_equipamento = e.id\n",
    "    GROUP BY e.modelo\n",
    "\"\"\").fetchdf()\n",
    "print(equipamentos_ativos)"
   ]
  }
 ],
 "metadata": {
  "kernelspec": {
   "display_name": "Python 3 (ipykernel)",
   "language": "python",
   "name": "python3"
  },
  "language_info": {
   "codemirror_mode": {
    "name": "ipython",
    "version": 3
   },
   "file_extension": ".py",
   "mimetype": "text/x-python",
   "name": "python",
   "nbconvert_exporter": "python",
   "pygments_lexer": "ipython3",
   "version": "3.13.3"
  }
 },
 "nbformat": 4,
 "nbformat_minor": 5
}
